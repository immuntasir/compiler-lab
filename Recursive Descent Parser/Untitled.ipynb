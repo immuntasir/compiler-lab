{
 "cells": [
  {
   "cell_type": "markdown",
   "metadata": {},
   "source": [
    "goal → expr\n",
    "\n",
    "expr → term expr2\n",
    "\n",
    "expr2 → + term expr2 | - term expr2 | ε\n",
    "\n",
    "term → factor term2\n",
    "\n",
    "term2 → * factor term2 | / factor term2 | ε\n",
    "\n",
    "factor → number | identifier | ( expr )"
   ]
  },
  {
   "cell_type": "code",
   "execution_count": 106,
   "metadata": {},
   "outputs": [],
   "source": [
    "cursor = 0\n",
    "savedCursor = 0\n",
    "str = ''\n",
    "def saveCursor():\n",
    "    global cursor, savedCursor\n",
    "    savedCursor = cursor\n",
    "    return 1\n",
    "def backtrack():\n",
    "    global cursor, savedCursor\n",
    "    cursor = savedCursor\n",
    "    return 1\n",
    "def getNextToken():\n",
    "    global cursor\n",
    "    if (cursor >= len(str) - 1):\n",
    "        return '$' \n",
    "    while (str[cursor] == ' '):\n",
    "        cursor = cursor + 1\n",
    "    nextToken = str[cursor]\n",
    "    cursor = cursor + 1\n",
    "    if (nextToken >= '0' and nextToken <= '9'):\n",
    "        return 'num'\n",
    "    elif (nextToken >= 'a' and nextToken <= 'z'):\n",
    "        return 'id'\n",
    "    return nextToken;\n",
    "def isToken(expected):\n",
    "    return int(getNextToken() == expected)"
   ]
  },
  {
   "cell_type": "code",
   "execution_count": 107,
   "metadata": {},
   "outputs": [],
   "source": [
    "# goal → expr\n",
    "def goal():\n",
    "    return expr()"
   ]
  },
  {
   "cell_type": "code",
   "execution_count": 108,
   "metadata": {},
   "outputs": [],
   "source": [
    "# expr → term expr2\n",
    "def expr():\n",
    "    return term() and expr2()"
   ]
  },
  {
   "cell_type": "code",
   "execution_count": 109,
   "metadata": {},
   "outputs": [],
   "source": [
    "# expr2 → + term expr2 | - term expr2 | ε\n",
    "def expr2():\n",
    "    return (saveCursor() and ((saveCursor() and isToken('+')) or (backtrack() and isToken('-'))) and term() and expr2())  or (backtrack() and 1) "
   ]
  },
  {
   "cell_type": "code",
   "execution_count": 110,
   "metadata": {},
   "outputs": [],
   "source": [
    "# term → factor term2\n",
    "def term():\n",
    "    return factor() and term2()"
   ]
  },
  {
   "cell_type": "code",
   "execution_count": 111,
   "metadata": {},
   "outputs": [],
   "source": [
    "# term2 → * factor term2 | / factor term2 | ε\n",
    "def term2():\n",
    "    return (saveCursor() and ((saveCursor() and isToken('*')) or (backtrack() and isToken('/'))) and factor() and term2())  or (backtrack() and 1) "
   ]
  },
  {
   "cell_type": "code",
   "execution_count": 117,
   "metadata": {},
   "outputs": [],
   "source": [
    "# factor → number | identifier | ( expr )\n",
    "def factor () :\n",
    "    return (saveCursor() and ((saveCursor() and isToken('num')) or (backtrack() and isToken('id')))) or (backtrack() and isToken('(') and expr() and isToken(')'))"
   ]
  },
  {
   "cell_type": "code",
   "execution_count": 118,
   "metadata": {},
   "outputs": [],
   "source": [
    "def parse(_str):\n",
    "    global str\n",
    "    str = _str\n",
    "    global cursor, savedCursor\n",
    "    cursor = 0\n",
    "    savedCursor = 0\n",
    "    if (goal()):\n",
    "        print(cursor)\n",
    "        print(len(str))\n",
    "        if (cursor == len(str) - 1):\n",
    "            return True"
   ]
  },
  {
   "cell_type": "code",
   "execution_count": 121,
   "metadata": {},
   "outputs": [
    {
     "name": "stdout",
     "output_type": "stream",
     "text": [
      "15\n",
      "16\n",
      "True\n"
     ]
    }
   ],
   "source": [
    "print(parse('1+2+s+2*a+1/2-2$'))"
   ]
  },
  {
   "cell_type": "code",
   "execution_count": null,
   "metadata": {},
   "outputs": [],
   "source": []
  },
  {
   "cell_type": "code",
   "execution_count": null,
   "metadata": {},
   "outputs": [],
   "source": []
  }
 ],
 "metadata": {
  "kernelspec": {
   "display_name": "Python 3",
   "language": "python",
   "name": "python3"
  },
  "language_info": {
   "codemirror_mode": {
    "name": "ipython",
    "version": 3
   },
   "file_extension": ".py",
   "mimetype": "text/x-python",
   "name": "python",
   "nbconvert_exporter": "python",
   "pygments_lexer": "ipython3",
   "version": "3.5.2"
  }
 },
 "nbformat": 4,
 "nbformat_minor": 2
}
