{
 "cells": [
  {
   "cell_type": "markdown",
   "metadata": {},
   "source": [
    "goal → expr\n",
    "\n",
    "expr → term expr2\n",
    "\n",
    "expr2 → + term expr2 | - term expr2 | ε\n",
    "\n",
    "term → factor term2\n",
    "\n",
    "term2 → * factor term2 | / factor term2 | ε\n",
    "\n",
    "factor → number | identifier | ( expr )"
   ]
  },
  {
   "cell_type": "code",
   "execution_count": 16,
   "metadata": {},
   "outputs": [],
   "source": [
    "str = ''\n",
    "def getToken (idx):\n",
    "    if (str[idx] >= '0' and str[idx] <= '9'):\n",
    "        return \"num\"\n",
    "    elif (str[idx] >= 'a' and str[idx] <= 'z'):\n",
    "        return \"id\"\n",
    "    else:\n",
    "        return str[idx]\n",
    "def isToken(idx, char):\n",
    "    if (getToken(idx) == char):\n",
    "        return true\n",
    "    return false"
   ]
  },
  {
   "cell_type": "code",
   "execution_count": 8,
   "metadata": {},
   "outputs": [],
   "source": [
    "def goal(idx):\n",
    "    return expr(idx)"
   ]
  },
  {
   "cell_type": "code",
   "execution_count": 9,
   "metadata": {},
   "outputs": [],
   "source": [
    "def expr(idx):\n",
    "    ret = term(idx)\n",
    "    if (ret):\n",
    "        return expr2(ret)"
   ]
  },
  {
   "cell_type": "code",
   "execution_count": 6,
   "metadata": {},
   "outputs": [],
   "source": [
    "# expr2 → + term expr2 | - term expr2 | ε\n",
    "def expr2(idx):\n",
    "    ret = e1(idx)\n",
    "    if (ret):\n",
    "        return ret\n",
    "    ret = e2(idx)\n",
    "    if (ret):\n",
    "        return ret;\n",
    "    return e3(idx)\n",
    "def e1(idx):\n",
    "    if (isToken(idx, '+')):\n",
    "        ret = term(idx+1)\n",
    "        if (ret):\n",
    "            return expr2(ret)\n",
    "    return 0\n",
    "def e2(idx):\n",
    "    if (isToken(idx, '-')):\n",
    "        ret = term(idx+1)\n",
    "        if (ret):\n",
    "            return expr2(ret)\n",
    "    return 0\n",
    "def e3(idx):\n",
    "    return idx*(idx >= len(str))"
   ]
  },
  {
   "cell_type": "code",
   "execution_count": 12,
   "metadata": {},
   "outputs": [],
   "source": [
    "def term(idx):\n",
    "    ret = factor(idx)\n",
    "    if (ret):\n",
    "        return term2(ret)"
   ]
  },
  {
   "cell_type": "code",
   "execution_count": 14,
   "metadata": {},
   "outputs": [],
   "source": [
    "# term2 → * factor term2 | / factor term2 | ε\n",
    "def term2(idx):\n",
    "    return t1(idx) or t2(idx) or t3(idx)\n",
    "def t1(idx):\n",
    "    if (isToken(idx, '*')):\n",
    "        ret = factor(idx+1)\n",
    "        if (ret):\n",
    "            return term2(ret)\n",
    "    return 0\n",
    "def t2(idx):\n",
    "    if (isToken(idx, '/')):\n",
    "        ret = factor(idx+1)\n",
    "        if (ret):\n",
    "            return term2(ret)\n",
    "    return 0\n",
    "def t3(idx):\n",
    "    return idx*(idx >= len(str))"
   ]
  },
  {
   "cell_type": "code",
   "execution_count": null,
   "metadata": {},
   "outputs": [],
   "source": [
    "# factor → number | identifier | ( expr )\n",
    "def factor (idx) :\n",
    "    return number(idx) | identifier(idx) | bexpr(idx)\n",
    "def number(idx):\n",
    "    return (idx+1) * (isToken(idx, 'num'))\n",
    "def identifier(idx):\n",
    "    return (idx+1) * (isToken(idx, 'id'))\n",
    "def bexpr(idx):\n",
    "    if (isToken(idx, '(')):\n",
    "        ret = expr(idx+1)\n",
    "        if (ret):\n",
    "            if (isToken(ret, ')')):\n",
    "                return ret + 1\n",
    "    return 0"
   ]
  }
 ],
 "metadata": {
  "kernelspec": {
   "display_name": "Python 3",
   "language": "python",
   "name": "python3"
  },
  "language_info": {
   "codemirror_mode": {
    "name": "ipython",
    "version": 3
   },
   "file_extension": ".py",
   "mimetype": "text/x-python",
   "name": "python",
   "nbconvert_exporter": "python",
   "pygments_lexer": "ipython3",
   "version": "3.5.2"
  }
 },
 "nbformat": 4,
 "nbformat_minor": 2
}
