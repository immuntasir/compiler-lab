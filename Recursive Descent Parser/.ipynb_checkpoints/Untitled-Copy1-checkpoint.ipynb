{
 "cells": [
  {
   "cell_type": "markdown",
   "metadata": {},
   "source": [
    "goal → expr\n",
    "\n",
    "expr → term expr2\n",
    "\n",
    "expr2 → + term expr2 | - term expr2 | ε\n",
    "\n",
    "term → factor term2\n",
    "\n",
    "term2 → * factor term2 | / factor term2 | ε\n",
    "\n",
    "factor → number | identifier | ( expr )"
   ]
  },
  {
   "cell_type": "code",
   "execution_count": 92,
   "metadata": {},
   "outputs": [],
   "source": [
    "cursor = 0\n",
    "savedCursor = 0\n",
    "str = ''\n",
    "def saveCursor():\n",
    "    global cursor, savedCursor\n",
    "    savedCursor = cursor\n",
    "    return 1\n",
    "def backtrack():\n",
    "    global cursor, savedCursor\n",
    "    cursor = savedCursor\n",
    "    return 1\n",
    "def getNextToken():\n",
    "    global cursor\n",
    "    if (cursor >= len(str)):\n",
    "        return '$' \n",
    "    while (str[cursor] == ' '):\n",
    "        cursor = cursor + 1\n",
    "    nextToken = str[cursor]\n",
    "    cursor = cursor + 1\n",
    "    if (nextToken >= '0' and nextToken <= '9'):\n",
    "        return 'num'\n",
    "    elif (nextToken >= 'a' and nextToken <= 'z'):\n",
    "        return 'id'\n",
    "    return nextToken;\n",
    "def isToken(expected):\n",
    "    return int(getNextToken() == expected)"
   ]
  },
  {
   "cell_type": "code",
   "execution_count": 93,
   "metadata": {},
   "outputs": [],
   "source": [
    "# goal → expr\n",
    "def goal():\n",
    "    return expr()"
   ]
  },
  {
   "cell_type": "code",
   "execution_count": 94,
   "metadata": {},
   "outputs": [],
   "source": [
    "# expr → term expr2\n",
    "def expr():\n",
    "    return term() and expr2()"
   ]
  },
  {
   "cell_type": "code",
   "execution_count": 95,
   "metadata": {},
   "outputs": [],
   "source": [
    "# expr2 → + term expr2 | - term expr2 | ε\n",
    "def expr2():\n",
    "    return (saveCursor() and (isToken('+') or isToken('-')) and term() and expr2())  or (backtrack() and 1) "
   ]
  },
  {
   "cell_type": "code",
   "execution_count": 96,
   "metadata": {},
   "outputs": [],
   "source": [
    "# term → factor term2\n",
    "def term():\n",
    "    return factor() and term2()"
   ]
  },
  {
   "cell_type": "code",
   "execution_count": 97,
   "metadata": {},
   "outputs": [],
   "source": [
    "# term2 → * factor term2 | / factor term2 | ε\n",
    "def term2():\n",
    "    return (saveCursor() and (isToken('*') or isToken('/')) and factor and term2())  or (backtrack() and 1) "
   ]
  },
  {
   "cell_type": "code",
   "execution_count": 98,
   "metadata": {},
   "outputs": [],
   "source": [
    "# factor → number | identifier | ( expr )\n",
    "def factor () :\n",
    "    return (saveCursor() and (isToken('num') or isToken('id'))) or (backtrack() and isToken('(') and expr() and isToken(')'))"
   ]
  },
  {
   "cell_type": "code",
   "execution_count": 99,
   "metadata": {},
   "outputs": [],
   "source": [
    "def parse(_str):\n",
    "    global str\n",
    "    str = _str\n",
    "    global cursor, savedCursor\n",
    "    cursor = 0\n",
    "    savedCursor = 0\n",
    "    return (goal() and cursor == len(str))"
   ]
  },
  {
   "cell_type": "code",
   "execution_count": 100,
   "metadata": {},
   "outputs": [
    {
     "name": "stdout",
     "output_type": "stream",
     "text": [
      "False\n"
     ]
    }
   ],
   "source": [
    "print(parse('2+2+2*aa+2$'))"
   ]
  },
  {
   "cell_type": "code",
   "execution_count": null,
   "metadata": {},
   "outputs": [],
   "source": []
  }
 ],
 "metadata": {
  "kernelspec": {
   "display_name": "Python 3",
   "language": "python",
   "name": "python3"
  },
  "language_info": {
   "codemirror_mode": {
    "name": "ipython",
    "version": 3
   },
   "file_extension": ".py",
   "mimetype": "text/x-python",
   "name": "python",
   "nbconvert_exporter": "python",
   "pygments_lexer": "ipython3",
   "version": "3.5.2"
  }
 },
 "nbformat": 4,
 "nbformat_minor": 2
}
