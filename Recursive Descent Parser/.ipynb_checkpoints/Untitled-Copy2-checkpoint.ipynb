{
 "cells": [
  {
   "cell_type": "markdown",
   "metadata": {},
   "source": [
    "goal → expr\n",
    "\n",
    "expr → term expr2\n",
    "\n",
    "expr2 → + term expr2 | - term expr2 | ε\n",
    "\n",
    "term → factor term2\n",
    "\n",
    "term2 → * factor term2 | / factor term2 | ε\n",
    "\n",
    "factor → number | identifier | ( expr )"
   ]
  },
  {
   "cell_type": "code",
   "execution_count": 5,
   "metadata": {},
   "outputs": [],
   "source": [
    "cursor = 0\n",
    "savedCursor = 0\n",
    "str = ''\n",
    "rules = list()\n",
    "errors = list()\n",
    "def saveCursor():\n",
    "    global cursor, savedCursor\n",
    "    savedCursor = cursor\n",
    "    return 1\n",
    "def backtrack():\n",
    "    global cursor, savedCursor\n",
    "    cursor = savedCursor\n",
    "    return 1\n",
    "def getNextToken():\n",
    "    global cursor\n",
    "    if (cursor >= len(str)):\n",
    "        return '$' \n",
    "    while (str[cursor] == ' '):\n",
    "        cursor = cursor + 1\n",
    "    nextToken = str[cursor]\n",
    "    cursor = cursor + 1\n",
    "    if (nextToken >= '0' and nextToken <= '9'):\n",
    "        return 'num'\n",
    "    elif (nextToken >= 'a' and nextToken <= 'z'):\n",
    "        return 'id'\n",
    "    return nextToken;\n",
    "def isToken(expected):\n",
    "    return int(getNextToken() == expected)"
   ]
  },
  {
   "cell_type": "code",
   "execution_count": 6,
   "metadata": {},
   "outputs": [],
   "source": [
    "# goal → expr\n",
    "def goal():\n",
    "    ret = expr()\n",
    "    if (ret):\n",
    "        rules.append('goal -> expr')\n",
    "        return True\n",
    "    else:\n",
    "        \n",
    "        return False"
   ]
  },
  {
   "cell_type": "code",
   "execution_count": 7,
   "metadata": {},
   "outputs": [],
   "source": [
    "# expr → term expr2\n",
    "def expr():\n",
    "    ret = term()\n",
    "    if (ret):\n",
    "        ret = expr2()\n",
    "        if (ret):\n",
    "            rules.append('expr -> term expr2')\n",
    "            return True\n",
    "        else:\n",
    "            return False\n",
    "    else:\n",
    "        return False"
   ]
  },
  {
   "cell_type": "code",
   "execution_count": 8,
   "metadata": {},
   "outputs": [],
   "source": [
    "# expr2 → + term expr2 | - term expr2 | ε\n",
    "def expr2():\n",
    "    saveCursor()\n",
    "    ret = ((saveCursor() and isToken('+')) or (backtrack() and isToken('-')))\n",
    "    if (ret):\n",
    "        ret = term()\n",
    "        if (ret):\n",
    "            ret = expr2()\n",
    "            if (ret):\n",
    "                rules.append('expr2 -> + term expr2')\n",
    "                return True\n",
    "    backtrack()\n",
    "    rules.append('expr2 -> eps')\n",
    "    return True"
   ]
  },
  {
   "cell_type": "code",
   "execution_count": 9,
   "metadata": {},
   "outputs": [],
   "source": [
    "# term → factor term2\n",
    "def term():\n",
    "    ret = factor()\n",
    "    if (ret):\n",
    "        ret = term2()\n",
    "        if(ret):\n",
    "            rules.append('term -> factor term2')\n",
    "            return True\n",
    "        \n",
    "    return False"
   ]
  },
  {
   "cell_type": "code",
   "execution_count": 10,
   "metadata": {},
   "outputs": [],
   "source": [
    "# term2 → * factor term2 | / factor term2 | ε\n",
    "def term2():\n",
    "    saveCursor()\n",
    "    ret = ((saveCursor() and isToken('*')) or (backtrack() and isToken('/')))\n",
    "    if (ret):\n",
    "        ret = factor()\n",
    "        if (ret):\n",
    "            ret = term2()\n",
    "            if (ret):\n",
    "                rules.append('term2 -> * factor term2')\n",
    "                return True\n",
    "    backtrack()\n",
    "    rules.append('term2 -> eps')\n",
    "    return True"
   ]
  },
  {
   "cell_type": "code",
   "execution_count": 11,
   "metadata": {},
   "outputs": [],
   "source": [
    "# factor → number | identifier | ( expr )\n",
    "def factor () :\n",
    "    saveCursor()\n",
    "    ret = ((saveCursor() and isToken('num')) or (backtrack() and isToken('id')))\n",
    "    if (ret):\n",
    "        rules.append('factor -> number')\n",
    "        return True\n",
    "    backtrack()\n",
    "    ret = isToken('(')\n",
    "    if (ret):\n",
    "        ret = expr()\n",
    "        if (ret):\n",
    "            ret = isToken(')')\n",
    "            if (ret):\n",
    "                rules.append('factor -> bracket expr bracket')\n",
    "                return True\n",
    "            else:\n",
    "                errors.append('Expected )')\n",
    "                return False\n",
    "    return False\n"
   ]
  },
  {
   "cell_type": "code",
   "execution_count": 30,
   "metadata": {},
   "outputs": [],
   "source": [
    "def parse(_str):\n",
    "    global str\n",
    "    str = _str\n",
    "    global cursor, savedCursor\n",
    "    cursor = 0\n",
    "    savedCursor = 0\n",
    "    errors.clear()\n",
    "    rules.clear()\n",
    "    ret = True\n",
    "    for ch in str:\n",
    "        if (ch >= '0' and ch <= '9'):\n",
    "            pass\n",
    "        elif (ch >= 'a' and ch <= 'z'):\n",
    "            pass\n",
    "        elif (ch == ')' or ch == '('):\n",
    "            pass\n",
    "        elif (ch == '+' or ch == '+' or ch == '*' or ch == '/'):\n",
    "            pass\n",
    "        elif (ch == '$'):\n",
    "            pass\n",
    "        else:\n",
    "            ret = False\n",
    "            errors.append('Illegal character ' + ch)\n",
    "    \n",
    "    checkstr = 'abcdefghijklmnopqrstuvwxyzABCDEFGHIJKLMNOPQRSTUVWXYZ0123456789'\n",
    "    for ch in range(0, len(str) - 2):\n",
    "        if (str[ch] in checkstr and str[ch+1] in checkstr):\n",
    "            errors.append('Operator missing')\n",
    "            ret = False\n",
    "    op = '+-*/'\n",
    "    bra = '()'\n",
    "    for ch in range(0, len(str) - 2):\n",
    "        if (str[ch] in op and str[ch+1] in bra):\n",
    "            errors.append('Unexpected character ' + str[ch+1])\n",
    "            ret = False\n",
    "    if (ret == False):\n",
    "        return False\n",
    "    return (goal() and cursor == len(str) - 1)"
   ]
  },
  {
   "cell_type": "code",
   "execution_count": 35,
   "metadata": {},
   "outputs": [
    {
     "name": "stdout",
     "output_type": "stream",
     "text": [
      "Successful\n",
      "goal -> expr\n",
      "expr -> term expr2\n",
      "expr2 -> eps\n",
      "term -> factor term2\n",
      "term2 -> eps\n",
      "factor -> bracket expr bracket\n",
      "expr -> term expr2\n",
      "expr2 -> + term expr2\n",
      "expr2 -> eps\n",
      "term -> factor term2\n",
      "term2 -> eps\n",
      "factor -> number\n",
      "term -> factor term2\n",
      "term2 -> eps\n",
      "factor -> number\n"
     ]
    }
   ],
   "source": [
    "if (parse('(2+2)$')):\n",
    "    print('Successful')\n",
    "    for each in reversed(rules):\n",
    "        print(each)\n",
    "else:\n",
    "    print(\"Encountered the following errors:\")\n",
    "    for each in errors:\n",
    "        print(each)"
   ]
  }
 ],
 "metadata": {
  "kernelspec": {
   "display_name": "Python 3",
   "language": "python",
   "name": "python3"
  },
  "language_info": {
   "codemirror_mode": {
    "name": "ipython",
    "version": 3
   },
   "file_extension": ".py",
   "mimetype": "text/x-python",
   "name": "python",
   "nbconvert_exporter": "python",
   "pygments_lexer": "ipython3",
   "version": "3.5.2"
  }
 },
 "nbformat": 4,
 "nbformat_minor": 2
}
